{
 "cells": [
  {
   "cell_type": "markdown",
   "id": "604150b3-255c-441f-8f67-c95b2f91158e",
   "metadata": {},
   "source": [
    "# CVE"
   ]
  },
  {
   "cell_type": "markdown",
   "id": "9688bdc8-ceb9-4fb5-a43b-588a5f108d83",
   "metadata": {},
   "source": [
    "**Common Vulnerabilities and Exposures Identifier (CVE ID)** is a unique, alphanumeric identifier assigned by the CVE Program. Each identifier references a specific vulnerability. A CVE ID enables automation and multiple parties to discuss, share, and correlate information about a specific vulnerability, knowing they are referring to the same thing\n",
    "\n",
    "> source: [https://www.cve.org](https://www.cve.org/ResourcesSupport/Glossary?activeTerm=glossaryCVEID)\n",
    "\n"
   ]
  },
  {
   "cell_type": "markdown",
   "id": "bb012dcd-8476-4501-8ca2-1008a08588e3",
   "metadata": {},
   "source": [
    "You can see this notebook directly via:\n",
    "- [GitHub](https://github.com/LimberDuck/limberduck.org/blob/master/docs/notebooks/cve/cve.ipynb)\n",
    "- [Jupter nbviewer](https://nbviewer.org/github/LimberDuck/limberduck.org/blob/master/docs/notebooks/cve/cve.ipynb)"
   ]
  },
  {
   "cell_type": "markdown",
   "id": "f0d55e25-0b30-4377-95cf-20f471fcaf21",
   "metadata": {},
   "source": [
    "## CVE data downloading"
   ]
  },
  {
   "cell_type": "markdown",
   "id": "b29a1112-344a-4015-91d1-c1ee0aa63629",
   "metadata": {},
   "source": [
    "ALL CVE IDs are taken from:\n",
    "- [https://cve.mitre.org/data/downloads/index.html](https://cve.mitre.org/data/downloads/index.html)\n",
    "- [https://cve.mitre.org/data/downloads/allitems.xml](https://cve.mitre.org/data/downloads/allitems.xml)"
   ]
  },
  {
   "cell_type": "code",
   "execution_count": 1,
   "id": "1ad57e68-be29-4e03-b876-8a3ce748c718",
   "metadata": {},
   "outputs": [],
   "source": [
    "url = 'https://cve.mitre.org/data/downloads/allitems.xml'\n",
    "file_name = 'allitems.xml'"
   ]
  },
  {
   "cell_type": "code",
   "execution_count": 2,
   "id": "50f24f67-75e2-4d85-bf23-47182cbf46f3",
   "metadata": {},
   "outputs": [
    {
     "data": {
      "text/plain": [
       "214078106"
      ]
     },
     "execution_count": 2,
     "metadata": {},
     "output_type": "execute_result"
    }
   ],
   "source": [
    "import requests\n",
    "import urllib3\n",
    "\n",
    "urllib3.disable_warnings()\n",
    "\n",
    "file = requests.get(url, verify=False)\n",
    "open(file_name, 'wb').write(file.content)"
   ]
  },
  {
   "cell_type": "markdown",
   "id": "cb262f32-6398-44c9-a365-d5e1b47dfcd8",
   "metadata": {},
   "source": [
    "## CVE data parsing"
   ]
  },
  {
   "cell_type": "code",
   "execution_count": 3,
   "id": "69608e9f-cbad-40db-85f2-48d25d1aa381",
   "metadata": {},
   "outputs": [
    {
     "name": "stdout",
     "output_type": "stream",
     "text": [
      "                number  year\n",
      "0        CVE-1999-0001  1999\n",
      "1        CVE-1999-0002  1999\n",
      "2        CVE-1999-0003  1999\n",
      "3        CVE-1999-0004  1999\n",
      "4        CVE-1999-0005  1999\n",
      "...                ...   ...\n",
      "222091  CVE-2022-21788  2022\n",
      "222092  CVE-2022-21789  2022\n",
      "222093  CVE-2022-21790  2022\n",
      "222094  CVE-2022-21791  2022\n",
      "222095  CVE-2022-21792  2022\n",
      "\n",
      "[222096 rows x 2 columns]\n"
     ]
    }
   ],
   "source": [
    "import pandas as pd \n",
    "import xml.etree.ElementTree as et \n",
    "\n",
    "tree = et.parse(file_name)\n",
    "root = tree.getroot()\n",
    "df_cols = [\"number\", \"year\"]\n",
    "rows = []\n",
    "\n",
    "for item in root:\n",
    "    item_name = item.attrib.get(\"name\")\n",
    "    item_year = item_name[4:8]\n",
    "    rows.append({\"number\": item_name, \"year\": item_year})\n",
    "\n",
    "df = pd.DataFrame(rows, columns = df_cols)\n",
    "\n",
    "print(df)"
   ]
  },
  {
   "cell_type": "code",
   "execution_count": 4,
   "id": "ecbe6644-37e1-4747-b8cc-3181570bfb1e",
   "metadata": {},
   "outputs": [
    {
     "data": {
      "text/html": [
       "<style type=\"text/css\">\n",
       "#T_2da7d_row0_col1, #T_2da7d_row2_col1 {\n",
       "  width: 10em;\n",
       "  height: 80%;\n",
       "  background: linear-gradient(90deg,#FF6200 1.1%, transparent 1.1%);\n",
       "}\n",
       "#T_2da7d_row1_col1 {\n",
       "  width: 10em;\n",
       "  height: 80%;\n",
       "}\n",
       "#T_2da7d_row3_col1 {\n",
       "  width: 10em;\n",
       "  height: 80%;\n",
       "  background: linear-gradient(90deg,#FF6200 4.0%, transparent 4.0%);\n",
       "}\n",
       "#T_2da7d_row4_col1 {\n",
       "  width: 10em;\n",
       "  height: 80%;\n",
       "  background: linear-gradient(90deg,#FF6200 1.2%, transparent 1.2%);\n",
       "}\n",
       "#T_2da7d_row5_col1 {\n",
       "  width: 10em;\n",
       "  height: 80%;\n",
       "  background: linear-gradient(90deg,#FF6200 5.1%, transparent 5.1%);\n",
       "}\n",
       "#T_2da7d_row6_col1 {\n",
       "  width: 10em;\n",
       "  height: 80%;\n",
       "  background: linear-gradient(90deg,#FF6200 12.3%, transparent 12.3%);\n",
       "}\n",
       "#T_2da7d_row7_col1 {\n",
       "  width: 10em;\n",
       "  height: 80%;\n",
       "  background: linear-gradient(90deg,#FF6200 20.1%, transparent 20.1%);\n",
       "}\n",
       "#T_2da7d_row8_col1 {\n",
       "  width: 10em;\n",
       "  height: 80%;\n",
       "  background: linear-gradient(90deg,#FF6200 18.5%, transparent 18.5%);\n",
       "}\n",
       "#T_2da7d_row9_col1 {\n",
       "  width: 10em;\n",
       "  height: 80%;\n",
       "  background: linear-gradient(90deg,#FF6200 20.4%, transparent 20.4%);\n",
       "}\n",
       "#T_2da7d_row10_col1 {\n",
       "  width: 10em;\n",
       "  height: 80%;\n",
       "  background: linear-gradient(90deg,#FF6200 13.1%, transparent 13.1%);\n",
       "}\n",
       "#T_2da7d_row11_col1, #T_2da7d_row12_col1 {\n",
       "  width: 10em;\n",
       "  height: 80%;\n",
       "  background: linear-gradient(90deg,#FF6200 13.7%, transparent 13.7%);\n",
       "}\n",
       "#T_2da7d_row13_col1 {\n",
       "  width: 10em;\n",
       "  height: 80%;\n",
       "  background: linear-gradient(90deg,#FF6200 18.4%, transparent 18.4%);\n",
       "}\n",
       "#T_2da7d_row14_col1 {\n",
       "  width: 10em;\n",
       "  height: 80%;\n",
       "  background: linear-gradient(90deg,#FF6200 20.9%, transparent 20.9%);\n",
       "}\n",
       "#T_2da7d_row15_col1 {\n",
       "  width: 10em;\n",
       "  height: 80%;\n",
       "  background: linear-gradient(90deg,#FF6200 30.9%, transparent 30.9%);\n",
       "}\n",
       "#T_2da7d_row16_col1 {\n",
       "  width: 10em;\n",
       "  height: 80%;\n",
       "  background: linear-gradient(90deg,#FF6200 27.9%, transparent 27.9%);\n",
       "}\n",
       "#T_2da7d_row17_col1 {\n",
       "  width: 10em;\n",
       "  height: 80%;\n",
       "  background: linear-gradient(90deg,#FF6200 33.8%, transparent 33.8%);\n",
       "}\n",
       "#T_2da7d_row18_col1 {\n",
       "  width: 10em;\n",
       "  height: 80%;\n",
       "  background: linear-gradient(90deg,#FF6200 60.8%, transparent 60.8%);\n",
       "}\n",
       "#T_2da7d_row19_col1 {\n",
       "  width: 10em;\n",
       "  height: 80%;\n",
       "  background: linear-gradient(90deg,#FF6200 69.1%, transparent 69.1%);\n",
       "}\n",
       "#T_2da7d_row20_col1 {\n",
       "  width: 10em;\n",
       "  height: 80%;\n",
       "  background: linear-gradient(90deg,#FF6200 67.8%, transparent 67.8%);\n",
       "}\n",
       "#T_2da7d_row21_col1 {\n",
       "  width: 10em;\n",
       "  height: 80%;\n",
       "  background: linear-gradient(90deg,#FF6200 100.0%, transparent 100.0%);\n",
       "}\n",
       "#T_2da7d_row22_col1 {\n",
       "  width: 10em;\n",
       "  height: 80%;\n",
       "  background: linear-gradient(90deg,#FF6200 88.9%, transparent 88.9%);\n",
       "}\n",
       "#T_2da7d_row23_col1 {\n",
       "  width: 10em;\n",
       "  height: 80%;\n",
       "  background: linear-gradient(90deg,#FF6200 1.5%, transparent 1.5%);\n",
       "}\n",
       "</style>\n",
       "<table id=\"T_2da7d_\">\n",
       "  <thead>\n",
       "    <tr>\n",
       "      <th class=\"blank level0\" >&nbsp;</th>\n",
       "      <th class=\"col_heading level0 col0\" >year</th>\n",
       "      <th class=\"col_heading level0 col1\" >number</th>\n",
       "    </tr>\n",
       "  </thead>\n",
       "  <tbody>\n",
       "    <tr>\n",
       "      <th id=\"T_2da7d_level0_row0\" class=\"row_heading level0 row0\" >1</th>\n",
       "      <td id=\"T_2da7d_row0_col0\" class=\"data row0 col0\" >1999</td>\n",
       "      <td id=\"T_2da7d_row0_col1\" class=\"data row0 col1\" >1579</td>\n",
       "    </tr>\n",
       "    <tr>\n",
       "      <th id=\"T_2da7d_level0_row1\" class=\"row_heading level0 row1\" >2</th>\n",
       "      <td id=\"T_2da7d_row1_col0\" class=\"data row1 col0\" >2000</td>\n",
       "      <td id=\"T_2da7d_row1_col1\" class=\"data row1 col1\" >1243</td>\n",
       "    </tr>\n",
       "    <tr>\n",
       "      <th id=\"T_2da7d_level0_row2\" class=\"row_heading level0 row2\" >3</th>\n",
       "      <td id=\"T_2da7d_row2_col0\" class=\"data row2 col0\" >2001</td>\n",
       "      <td id=\"T_2da7d_row2_col1\" class=\"data row2 col1\" >1573</td>\n",
       "    </tr>\n",
       "    <tr>\n",
       "      <th id=\"T_2da7d_level0_row3\" class=\"row_heading level0 row3\" >4</th>\n",
       "      <td id=\"T_2da7d_row3_col0\" class=\"data row3 col0\" >2002</td>\n",
       "      <td id=\"T_2da7d_row3_col1\" class=\"data row3 col1\" >2436</td>\n",
       "    </tr>\n",
       "    <tr>\n",
       "      <th id=\"T_2da7d_level0_row4\" class=\"row_heading level0 row4\" >5</th>\n",
       "      <td id=\"T_2da7d_row4_col0\" class=\"data row4 col0\" >2003</td>\n",
       "      <td id=\"T_2da7d_row4_col1\" class=\"data row4 col1\" >1600</td>\n",
       "    </tr>\n",
       "    <tr>\n",
       "      <th id=\"T_2da7d_level0_row5\" class=\"row_heading level0 row5\" >6</th>\n",
       "      <td id=\"T_2da7d_row5_col0\" class=\"data row5 col0\" >2004</td>\n",
       "      <td id=\"T_2da7d_row5_col1\" class=\"data row5 col1\" >2779</td>\n",
       "    </tr>\n",
       "    <tr>\n",
       "      <th id=\"T_2da7d_level0_row6\" class=\"row_heading level0 row6\" >7</th>\n",
       "      <td id=\"T_2da7d_row6_col0\" class=\"data row6 col0\" >2005</td>\n",
       "      <td id=\"T_2da7d_row6_col1\" class=\"data row6 col1\" >4899</td>\n",
       "    </tr>\n",
       "    <tr>\n",
       "      <th id=\"T_2da7d_level0_row7\" class=\"row_heading level0 row7\" >8</th>\n",
       "      <td id=\"T_2da7d_row7_col0\" class=\"data row7 col0\" >2006</td>\n",
       "      <td id=\"T_2da7d_row7_col1\" class=\"data row7 col1\" >7254</td>\n",
       "    </tr>\n",
       "    <tr>\n",
       "      <th id=\"T_2da7d_level0_row8\" class=\"row_heading level0 row8\" >9</th>\n",
       "      <td id=\"T_2da7d_row8_col0\" class=\"data row8 col0\" >2007</td>\n",
       "      <td id=\"T_2da7d_row8_col1\" class=\"data row8 col1\" >6763</td>\n",
       "    </tr>\n",
       "    <tr>\n",
       "      <th id=\"T_2da7d_level0_row9\" class=\"row_heading level0 row9\" >10</th>\n",
       "      <td id=\"T_2da7d_row9_col0\" class=\"data row9 col0\" >2008</td>\n",
       "      <td id=\"T_2da7d_row9_col1\" class=\"data row9 col1\" >7321</td>\n",
       "    </tr>\n",
       "    <tr>\n",
       "      <th id=\"T_2da7d_level0_row10\" class=\"row_heading level0 row10\" >11</th>\n",
       "      <td id=\"T_2da7d_row10_col0\" class=\"data row10 col0\" >2009</td>\n",
       "      <td id=\"T_2da7d_row10_col1\" class=\"data row10 col1\" >5160</td>\n",
       "    </tr>\n",
       "    <tr>\n",
       "      <th id=\"T_2da7d_level0_row11\" class=\"row_heading level0 row11\" >12</th>\n",
       "      <td id=\"T_2da7d_row11_col0\" class=\"data row11 col0\" >2010</td>\n",
       "      <td id=\"T_2da7d_row11_col1\" class=\"data row11 col1\" >5340</td>\n",
       "    </tr>\n",
       "    <tr>\n",
       "      <th id=\"T_2da7d_level0_row12\" class=\"row_heading level0 row12\" >13</th>\n",
       "      <td id=\"T_2da7d_row12_col0\" class=\"data row12 col0\" >2011</td>\n",
       "      <td id=\"T_2da7d_row12_col1\" class=\"data row12 col1\" >5336</td>\n",
       "    </tr>\n",
       "    <tr>\n",
       "      <th id=\"T_2da7d_level0_row13\" class=\"row_heading level0 row13\" >14</th>\n",
       "      <td id=\"T_2da7d_row13_col0\" class=\"data row13 col0\" >2012</td>\n",
       "      <td id=\"T_2da7d_row13_col1\" class=\"data row13 col1\" >6722</td>\n",
       "    </tr>\n",
       "    <tr>\n",
       "      <th id=\"T_2da7d_level0_row14\" class=\"row_heading level0 row14\" >15</th>\n",
       "      <td id=\"T_2da7d_row14_col0\" class=\"data row14 col0\" >2013</td>\n",
       "      <td id=\"T_2da7d_row14_col1\" class=\"data row14 col1\" >7493</td>\n",
       "    </tr>\n",
       "    <tr>\n",
       "      <th id=\"T_2da7d_level0_row15\" class=\"row_heading level0 row15\" >16</th>\n",
       "      <td id=\"T_2da7d_row15_col0\" class=\"data row15 col0\" >2014</td>\n",
       "      <td id=\"T_2da7d_row15_col1\" class=\"data row15 col1\" >10453</td>\n",
       "    </tr>\n",
       "    <tr>\n",
       "      <th id=\"T_2da7d_level0_row16\" class=\"row_heading level0 row16\" >17</th>\n",
       "      <td id=\"T_2da7d_row16_col0\" class=\"data row16 col0\" >2015</td>\n",
       "      <td id=\"T_2da7d_row16_col1\" class=\"data row16 col1\" >9571</td>\n",
       "    </tr>\n",
       "    <tr>\n",
       "      <th id=\"T_2da7d_level0_row17\" class=\"row_heading level0 row17\" >18</th>\n",
       "      <td id=\"T_2da7d_row17_col0\" class=\"data row17 col0\" >2016</td>\n",
       "      <td id=\"T_2da7d_row17_col1\" class=\"data row17 col1\" >11322</td>\n",
       "    </tr>\n",
       "    <tr>\n",
       "      <th id=\"T_2da7d_level0_row18\" class=\"row_heading level0 row18\" >19</th>\n",
       "      <td id=\"T_2da7d_row18_col0\" class=\"data row18 col0\" >2017</td>\n",
       "      <td id=\"T_2da7d_row18_col1\" class=\"data row18 col1\" >19393</td>\n",
       "    </tr>\n",
       "    <tr>\n",
       "      <th id=\"T_2da7d_level0_row19\" class=\"row_heading level0 row19\" >20</th>\n",
       "      <td id=\"T_2da7d_row19_col0\" class=\"data row19 col0\" >2018</td>\n",
       "      <td id=\"T_2da7d_row19_col1\" class=\"data row19 col1\" >21850</td>\n",
       "    </tr>\n",
       "    <tr>\n",
       "      <th id=\"T_2da7d_level0_row20\" class=\"row_heading level0 row20\" >21</th>\n",
       "      <td id=\"T_2da7d_row20_col0\" class=\"data row20 col0\" >2019</td>\n",
       "      <td id=\"T_2da7d_row20_col1\" class=\"data row20 col1\" >21457</td>\n",
       "    </tr>\n",
       "    <tr>\n",
       "      <th id=\"T_2da7d_level0_row21\" class=\"row_heading level0 row21\" >22</th>\n",
       "      <td id=\"T_2da7d_row21_col0\" class=\"data row21 col0\" >2020</td>\n",
       "      <td id=\"T_2da7d_row21_col1\" class=\"data row21 col1\" >31079</td>\n",
       "    </tr>\n",
       "    <tr>\n",
       "      <th id=\"T_2da7d_level0_row22\" class=\"row_heading level0 row22\" >23</th>\n",
       "      <td id=\"T_2da7d_row22_col0\" class=\"data row22 col0\" >2021</td>\n",
       "      <td id=\"T_2da7d_row22_col1\" class=\"data row22 col1\" >27772</td>\n",
       "    </tr>\n",
       "    <tr>\n",
       "      <th id=\"T_2da7d_level0_row23\" class=\"row_heading level0 row23\" >24</th>\n",
       "      <td id=\"T_2da7d_row23_col0\" class=\"data row23 col0\" >2022</td>\n",
       "      <td id=\"T_2da7d_row23_col1\" class=\"data row23 col1\" >1701</td>\n",
       "    </tr>\n",
       "  </tbody>\n",
       "</table>\n"
      ],
      "text/plain": [
       "<pandas.io.formats.style.Styler at 0x7fa966cebd90>"
      ]
     },
     "execution_count": 4,
     "metadata": {},
     "output_type": "execute_result"
    }
   ],
   "source": [
    "df = df.groupby(['year'], as_index=False)[['number']].count()\n",
    "df.reset_index(drop=True, inplace=True)\n",
    "df.index += 1\n",
    "\n",
    "df.style.bar(subset=['number'], color='#FF6200')"
   ]
  },
  {
   "cell_type": "markdown",
   "id": "c8f1485b-5641-4610-92ab-25ffb1493bea",
   "metadata": {},
   "source": [
    "## CVE data saving"
   ]
  },
  {
   "cell_type": "markdown",
   "id": "5b3522c7-1d6e-46c0-8400-ea82dbbb645f",
   "metadata": {},
   "source": [
    "CSV file is available in GitHub repository [here](https://github.com/LimberDuck/limberduck.org/blob/master/docs/notebooks/cve/cve-number-of-entries.csv)."
   ]
  },
  {
   "cell_type": "code",
   "execution_count": 5,
   "id": "6c1d9ff7-d783-4362-9f8f-336abded29bb",
   "metadata": {},
   "outputs": [],
   "source": [
    "csv_filename = 'cve-number-of-entries.csv'\n",
    "\n",
    "df.to_csv(csv_filename, index=False)"
   ]
  },
  {
   "cell_type": "markdown",
   "id": "8142803d-8e8f-4d65-81d1-cf54eeeeacfc",
   "metadata": {},
   "source": [
    "## CVE data ploting"
   ]
  },
  {
   "cell_type": "code",
   "execution_count": 6,
   "id": "f49c7474-a160-468f-9930-365b66710970",
   "metadata": {},
   "outputs": [
    {
     "data": {
      "image/png": "[encoded data removed]",
      "text/plain": [
       "<Figure size 720x432 with 1 Axes>"
      ]
     },
     "metadata": {},
     "output_type": "display_data"
    }
   ],
   "source": [
    "import pandas as pd\n",
    "import matplotlib.pyplot as plt\n",
    "\n",
    "df = pd.read_csv(csv_filename)\n",
    "\n",
    "df.plot(x='year', \n",
    "        xlabel='Year',\n",
    "        y='number', \n",
    "        ylabel='Number of CVE',\n",
    "        kind='bar', \n",
    "        title='Number of CVE per year (source: https://cve.mitre.org)')\n",
    "plt.tight_layout()\n",
    "plt.legend(['CVE']);\n",
    "fig = plt.gcf()\n",
    "fig.set_size_inches(10,6)\n",
    "fig.patch.set_facecolor('white')\n",
    "plt.grid(True)\n",
    "plt.savefig('cve-number-of-entries-bg-white.png', dpi = 300, facecolor = 'white')\n",
    "plt.savefig('cve-number-of-entries-bg-transparent.png', dpi = 300, transparent = True)"
   ]
  }
 ],
 "metadata": {
  "kernelspec": {
   "display_name": "Python 3 (ipykernel)",
   "language": "python",
   "name": "python3"
  },
  "language_info": {
   "codemirror_mode": {
    "name": "ipython",
    "version": 3
   },
   "file_extension": ".py",
   "mimetype": "text/x-python",
   "name": "python",
   "nbconvert_exporter": "python",
   "pygments_lexer": "ipython3",
   "version": "3.9.5"
  }
 },
 "nbformat": 4,
 "nbformat_minor": 5
}
